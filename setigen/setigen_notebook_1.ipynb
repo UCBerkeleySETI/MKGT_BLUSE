{
 "cells": [
  {
   "cell_type": "markdown",
   "id": "d30fe764",
   "metadata": {},
   "source": [
    "# `setigen` crash course for BLUSE@MeerKAT\n",
    "\n",
    "`setigen` supports many ways of creating synthetic data.  This notebook showcases a small but practical subset of these techniques to emulate the data processed by the BLUSE Doppler drift search algorithm.\n",
    "\n",
    "## Simulating BLUSE data analysis\n",
    "\n",
    "The BLUSE commensal backend upchannelizes, beamforms, and doppler drift searches the data in situ using a unified software package called `seticore`.  We will be emulating some of the stages of `seticore` processing using `setigen` to generate simulated beamformer output and `turboSETI` to search for Doppler drifting signals.  This is a fairly close approximation to what the unified `seticore` package does, but `turboSETI` has been designed for *single pixel* (i.e. single dish, single beam) data so it does not support some of the more advanced RFI rejection techniques, such as *multibeam excision*.  As a workaround, we will fall back to using a sequence of ON/OFF observations, known as a *cadence*, with the `find_event_pipeline` and `plot_event_pipeline` functions that we've seen in other notebooks.\n",
    "\n",
    "#### Food for thought 🤔\n",
    "\n",
    "How are single beam and multibeam observations similar?  How do they differ?  Why do we **not** use a cadence of observations when observing commensally?"
   ]
  },
  {
   "cell_type": "markdown",
   "id": "ae35e5c5",
   "metadata": {},
   "source": [
    "## Channelization details\n",
    "\n",
    "### MeerKAT channelization details\n",
    "\n",
    "The MeerKAT F engines channelize the antenna voltages into 1024, 4096, or 32768 frequency channels when running in \"1K\", \"4K\", and \"32K\" modes, resp.  A *zoom mode* also exists, but BLUSE does not utilize that because it offers less bandwidth (albeit at a higher resolution).  The MeerKAT L band receiver observes sky freqencies from 856 MHz to 1712 MHz (856 MHz bandwidth).  The MeerKAT UHF receiver observes sky frequencies from 544 MHz to 1088 MHz (544 MHz bandwidth).  \n",
    "\n",
    "### BLUSE channelization details\n",
    "\n",
    "The BLUSE backend will further channelize, aka *up-channelize*, the F engines' channelized antenna voltages.  Due to memory constraints, only a portion of the bandwidth is processed at one time.  The BLUSE backend loops over the input channels, always processing the same total bandwidth at each iteration.  The amount processed is 1 coarse channel in 1K mode, 4 coarse channels in 4K mode, and 32 coarse channels in 32K mode.  To keep the rest of the back end processing independent of the F engine mode, the up-channeliztion process always outputs the same number of fine channels, regardless of input mode.  The channelization details and resultant fine channel spectral resolutions are summarized in the following table.\n",
    "\n",
    "|Recevier | BW (MHz) | F engine mode |`N_b`| `N_up` |  `N_f` | Spectral resolution (Hz) |\n",
    "|---------|----------|---------------|-----|--------|--------|--------------------------|\n",
    "| L band  |    856   |    1K mode    |  1  | 2\\**19 | 2\\**29 | ~1.59 Hz                 |\n",
    "| L band  |    856   |    4K mode    |  4  | 2\\**17 | 2\\**29 | ~1.59 Hz                 |\n",
    "| L band  |    856   |   32K mode    | 32  | 2\\**14 | 2\\**29 | ~1.59 Hz                 |\n",
    "|   UHF   |    544   |    1K mode    |  1  | 2\\**19 | 2\\**29 | ~1.01 Hz                 |\n",
    "|   UHF   |    544   |    4K mode    |  4  | 2\\**17 | 2\\**29 | ~1.01 Hz                 |\n",
    "|   UHF   |    544   |   32K mode    | 32  | 2\\**14 | 2\\**29 | ~1.01 Hz                 |\n",
    "\n",
    "Where:\n",
    "\n",
    "- `N_b` is the number of coarse channels processed at one time (`b` for *batch size*)\n",
    "- `N_up` is the number of fine channels per coarse channel (aka the *up-channelization factor*)\n",
    "- `N_f` is the total number of fine channels (i.e. `total_F_engine_channels * N_b`)\n",
    "\n",
    "\n",
    "To keep things simple (less complicated), this notebook will focus only on L band 4K mode observations.  You are encouraged to branch out and try other modes or receivers once you get more comfortable with this.\n",
    "\n",
    "To keep data sizes manageable (less unmanageable), this notebook will only simulate `N_b` coarse channels at a time."
   ]
  },
  {
   "cell_type": "markdown",
   "id": "48618f54",
   "metadata": {},
   "source": [
    "## Let's get started!\n",
    "\n",
    "Now that we know some of the specifics, we can get started with `setigen`.\n",
    "\n",
    "First, the obligatory `import` statements."
   ]
  },
  {
   "cell_type": "code",
   "execution_count": null,
   "id": "1450266b",
   "metadata": {},
   "outputs": [],
   "source": [
    "from astropy import units as u\n",
    "import setigen as stg\n",
    "import matplotlib.pyplot as plt\n",
    "import os\n",
    "%matplotlib inline"
   ]
  },
  {
   "cell_type": "markdown",
   "id": "524e2396",
   "metadata": {},
   "source": [
    "Here we set some variables based on the L band 4K mode entry in the table above.  Setting these in one place will make it easier for you to experiment with different settings when you're ready."
   ]
  },
  {
   "cell_type": "code",
   "execution_count": null,
   "id": "cbf61fed",
   "metadata": {},
   "outputs": [],
   "source": [
    "BW = 856\n",
    "Nc = 4096 # Total number of coarse channels (aka F engine mode)\n",
    "Nb = 4\n",
    "Nup = 2**17"
   ]
  },
  {
   "cell_type": "markdown",
   "id": "160ca075",
   "metadata": {},
   "source": [
    "Because we are now experts on the MeerKAT/BLUSE backend, we will use the `from_backend_params` to generate a *frame* to hold our data, but first let's define a few other variables that correspond to the keyword arguments.  Refer to the `from_backend_params` [documentation](https://setigen.readthedocs.io/en/main/setigen.html#setigen.frame.Frame.from_backend_params) for more details."
   ]
  },
  {
   "cell_type": "code",
   "execution_count": null,
   "id": "0033395e",
   "metadata": {},
   "outputs": [],
   "source": [
    "# Our total number of frequency channels will be\n",
    "# `Nb coarse channels * Nup up-channelization`\n",
    "fchans = Nb * Nup\n",
    "\n",
    "# obs_length is in seconds, 300 (i.e. 5 minutes) is typical\n",
    "obs_length = 300\n",
    "\n",
    "# Full-band sample rate in Hz is 2e6*BW, but for our Nb channels\n",
    "# the sample rate is 2e6*BW*Nb/Nc\n",
    "sample_rate = 2e6*BW*Nb/Nc\n",
    "\n",
    "# Number of PFB channels (ie coarse channels) times 2\n",
    "num_branches = 2 * Nb\n",
    "\n",
    "# Up-channelization factor\n",
    "fftlength = Nup\n",
    "\n",
    "# Integration factor, i.e. number of spectra to integrate together (8 is typical for BLUSE)\n",
    "int_factor = 8\n",
    "\n",
    "# Freqeuncy of first channel.  Let's start at center of band\n",
    "fch1 = 1.5 * BW * u.MHz\n",
    "\n",
    "# MeerKAT frequencies are always ascending (at least so far...)\n",
    "ascending = True\n",
    "\n",
    "# Finally we can create the frame!\n",
    "frame = stg.Frame.from_backend_params(fchans=fchans,\n",
    "                                      obs_length=obs_length,\n",
    "                                      sample_rate=sample_rate,\n",
    "                                      num_branches=num_branches,\n",
    "                                      fftlength=fftlength,\n",
    "                                      int_factor=int_factor,\n",
    "                                      fch1=fch1,\n",
    "                                      ascending=ascending)"
   ]
  },
  {
   "cell_type": "markdown",
   "id": "c49f77d1",
   "metadata": {},
   "source": [
    "Let's see what's in our new frame."
   ]
  },
  {
   "cell_type": "code",
   "execution_count": null,
   "id": "0461fc73",
   "metadata": {},
   "outputs": [],
   "source": [
    "fig = plt.figure(figsize=(10, 6))\n",
    "frame.plot()"
   ]
  },
  {
   "cell_type": "markdown",
   "id": "bca4601e",
   "metadata": {},
   "source": [
    "The new frame is empty (i.e. full of zeros).  We need to add some background noise and some signals to it, but first note that the parameters we've chosen result in our frame having 2\\**15 frequency channels and 59 time samples."
   ]
  },
  {
   "cell_type": "markdown",
   "id": "608565b3",
   "metadata": {},
   "source": [
    "## Add noise\n",
    "\n",
    "Adding noise is done with the `add_noise` function.  You can [read the docs](https://setigen.readthedocs.io/en/main/setigen.html?highlight=add_noise#setigen.frame.Frame.add_noise) for more details, but the basic usage shown here is pretty straight forward.  After adding noise, we plot the frame again."
   ]
  },
  {
   "cell_type": "code",
   "execution_count": null,
   "id": "03920db6",
   "metadata": {},
   "outputs": [],
   "source": [
    "frame.add_noise(x_mean=10, noise_type='chi2')\n",
    "fig = plt.figure(figsize=(10, 6))\n",
    "frame.plot()"
   ]
  },
  {
   "cell_type": "markdown",
   "id": "6e45e6e4",
   "metadata": {},
   "source": [
    "#### Food for thought 🤔\n",
    "\n",
    "What happens to the frame if you change the `integration_factor`?  What happens to the noise statistics?"
   ]
  },
  {
   "cell_type": "markdown",
   "id": "1a2ebf91",
   "metadata": {},
   "source": [
    "## Add signal\n",
    "\n",
    "Adding a signal is done with the `add_signal` function.  You can [read the docs](https://setigen.readthedocs.io/en/main/setigen.html?highlight=add_signal#setigen.frame.Frame.add_signal) for more details.  Many types of signals have convenience wrappers around `add_signal` to make it easier to add signals of these types.  Here we use `add_constant_signal` to add a Doppler drifting signal starting at channel 200 with a drift rate of 2 Hz/s, a width of 40 Hz, and a frequency profile that is a Gaussian.  Of course, we plot the frame after to see the results."
   ]
  },
  {
   "cell_type": "code",
   "execution_count": null,
   "id": "162ace38",
   "metadata": {},
   "outputs": [],
   "source": [
    "# Feel free to change these parameters\n",
    "start_chan = 123456\n",
    "drift_rate = 2 * u.Hz/u.s\n",
    "snr = 30\n",
    "width = 4 * u.Hz\n",
    "\n",
    "frame.add_constant_signal(f_start=frame.get_frequency(start_chan),\n",
    "                          drift_rate=drift_rate,\n",
    "                          level=frame.get_intensity(snr=snr),\n",
    "                          width=width,\n",
    "                          f_profile_type='gaussian')\n",
    "\n",
    "fig = plt.figure(figsize=(10, 6))\n",
    "frame.plot()"
   ]
  },
  {
   "cell_type": "markdown",
   "id": "92777531",
   "metadata": {},
   "source": [
    "If you used the suggested parameters, you probably won't see the signal because if the limited resolution of your display compared to the frame.  Don't worry, the signal is still in there."
   ]
  },
  {
   "cell_type": "markdown",
   "id": "50ffcfee",
   "metadata": {},
   "source": [
    "## Save to file\n",
    "\n",
    "Now that we have created our frame and added noise and a few sneaky signals to it, we can save it to a file so that someone else can try to find our signals using `turboSETI`.  (You can ignore any `WARNING` messages that may be printed.)"
   ]
  },
  {
   "cell_type": "code",
   "execution_count": null,
   "id": "def43f26",
   "metadata": {},
   "outputs": [],
   "source": [
    "username = os.getenv(\"LOGNAME\")\n",
    "outdir = os.path.join('/scratch/bluse', username, 'sg1')\n",
    "os.makedirs(outdir, exist_ok=True)\n",
    "frame.save_hdf5(filename=os.path.join(outdir, f'{username}.h5'))"
   ]
  },
  {
   "cell_type": "markdown",
   "id": "3af269f4",
   "metadata": {},
   "source": [
    "## Next steps\n",
    "\n",
    "Feel free to experiment with adding more signals with different parameters and even more types of signals.  The `setigen` docs describe [how to use prepackaged signal functions](https://setigen.readthedocs.io/en/main/basics.html#using-prepackaged-signal-functions) to add many different types of signals.  Feel free to add many signals to your frame.\n",
    "\n",
    "If you want to start over, you can call `frame.zero_data()` to reset the frame's data to all zeros.  Don't forget to add noise again after resetting the frame's data to all zeros!  Some `add_signal` variants need noise in the frame so they can adjust their levels to match your SNR specification.\n",
    "\n",
    "Have fun!"
   ]
  },
  {
   "cell_type": "code",
   "execution_count": null,
   "id": "1a9ec7f3",
   "metadata": {},
   "outputs": [],
   "source": []
  }
 ],
 "metadata": {
  "kernelspec": {
   "display_name": "BLUSE Python 3.8",
   "language": "python",
   "name": "bluse_python38"
  },
  "language_info": {
   "codemirror_mode": {
    "name": "ipython",
    "version": 3
   },
   "file_extension": ".py",
   "mimetype": "text/x-python",
   "name": "python",
   "nbconvert_exporter": "python",
   "pygments_lexer": "ipython3",
   "version": "3.8.8"
  }
 },
 "nbformat": 4,
 "nbformat_minor": 5
}

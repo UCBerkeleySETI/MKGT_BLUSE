{
 "cells": [
  {
   "cell_type": "markdown",
   "id": "056b1aa2",
   "metadata": {},
   "source": [
    "# MeerKAT Grand Tour - BLUSE (SETI) Notebooks"
   ]
  },
  {
   "cell_type": "markdown",
   "id": "6ae19e76",
   "metadata": {},
   "source": [
    "This is the table of contents for the BLUSE notebooks used for the\n",
    "MeerKAT Grand Tour workshop held at Rhodes University in Makhanda,\n",
    "Eastern Cape, South Africa in January 2023.\n",
    "\n",
    "1. Voyager tutorials\n",
    "\n",
    "   The *Voyager 1* and *Voyager 2* space probes emit extraterretrial technosignatures near 8.4 GHz.\n",
    "   Despite being human-created, these signals are very useful as SETI test signals.  If we can't\n",
    "   detect these human-created technosignatures, we are unlikely to be able to detect ET-created\n",
    "   technosignatures.  Fortunately, we can detect Voyager and you can too using these notebooks!\n",
    "   \n",
    "   1. [`voyager_notebook_1.ipynb`](voyager/voyager_notebook_1.ipynb) Voyager 1 data from the GBT\n",
    "   2. [`voyager_notebook_2.ipynb`](voyager/voyager_notebook_2.ipynb) Voyager 2 data from the Murriyang telescope (Parkes)\n",
    "   3. [`voyager_notebook_3.ipynb`](voyager/voyager_notebook_3.ipynb) Voyager 1 data from the GBT, with *turboSETI*\n",
    "\n",
    "\n",
    "2. `setigen` notebooks\n",
    "\n",
    "   `setigen` is used to generate spectrogram data with embedded Doppler drifting signals as well\n",
    "   as injecting simulated Doppler drifting signals into \"real\" data.  This gives is a way to test\n",
    "   our Doppler drifting detection algorithms (e.g. *turboSETI*).  `setigen` can also inject RFI-like\n",
    "   signals to give the simulated data a more realistic feel.\n",
    "   \n",
    "   You will use these `setigen` notebooks to make your own simulated data with (or without if you prefer)\n",
    "   Doppler drifting signals.  Feel free to get creative with the signals you choose to inject!\n",
    "   \n",
    "   **Coming soon**\n",
    "\n",
    "\n",
    "3. `turboSETI` notebooks\n",
    "\n",
    "   `turboSETI` is a tool for detecting Doppler drifting signals in radio spectrogtrams (e.g.\n",
    "   Filterbank files).  If one has several ON/OFF observations, `find_event_pipeline` can be used\n",
    "   to determine whether \"hits\" are interesting (i.e. not consistent with RFI) or non-interesting\n",
    "   (i.e. consistent with RFI).\n",
    "   \n",
    "   You will use these `turboSETI` notebooks to search for Doppler drifting signals in data files that another\n",
    "   student created using the `setigen` notebooks.  The data files that you created with the `setigen`\n",
    "   notbooks will be searched by another student using these same notebooks.\n",
    "   \n",
    "   **Coming soon**"
   ]
  },
  {
   "cell_type": "code",
   "execution_count": null,
   "id": "3ee8d7fd",
   "metadata": {},
   "outputs": [],
   "source": [
    "\n"
   ]
  }
 ],
 "metadata": {
  "kernelspec": {
   "display_name": "BLUSE Python 3.8",
   "language": "python",
   "name": "bluse_python38"
  },
  "language_info": {
   "codemirror_mode": {
    "name": "ipython",
    "version": 3
   },
   "file_extension": ".py",
   "mimetype": "text/x-python",
   "name": "python",
   "nbconvert_exporter": "python",
   "pygments_lexer": "ipython3",
   "version": "3.8.8"
  }
 },
 "nbformat": 4,
 "nbformat_minor": 5
}
